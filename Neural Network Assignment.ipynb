{
 "cells": [
  {
   "cell_type": "code",
   "execution_count": 1,
   "id": "833bf4fc",
   "metadata": {},
   "outputs": [],
   "source": [
    "import pandas as pd\n",
    "import numpy as np\n",
    "import matplotlib.pyplot as plt"
   ]
  },
  {
   "cell_type": "code",
   "execution_count": 2,
   "id": "596751d8",
   "metadata": {},
   "outputs": [],
   "source": [
    "from keras.models import Sequential\n",
    "from keras.layers import Dense\n",
    "from sklearn.model_selection import train_test_split"
   ]
  },
  {
   "cell_type": "code",
   "execution_count": 46,
   "id": "89a47cb3",
   "metadata": {},
   "outputs": [],
   "source": [
    "import warnings\n",
    "warnings.filterwarnings('ignore')"
   ]
  },
  {
   "cell_type": "code",
   "execution_count": 3,
   "id": "d118df78",
   "metadata": {},
   "outputs": [],
   "source": [
    "q1=pd.read_csv('forestfires.csv')"
   ]
  },
  {
   "cell_type": "code",
   "execution_count": 4,
   "id": "8259809f",
   "metadata": {},
   "outputs": [
    {
     "data": {
      "text/html": [
       "<div>\n",
       "<style scoped>\n",
       "    .dataframe tbody tr th:only-of-type {\n",
       "        vertical-align: middle;\n",
       "    }\n",
       "\n",
       "    .dataframe tbody tr th {\n",
       "        vertical-align: top;\n",
       "    }\n",
       "\n",
       "    .dataframe thead th {\n",
       "        text-align: right;\n",
       "    }\n",
       "</style>\n",
       "<table border=\"1\" class=\"dataframe\">\n",
       "  <thead>\n",
       "    <tr style=\"text-align: right;\">\n",
       "      <th></th>\n",
       "      <th>month</th>\n",
       "      <th>day</th>\n",
       "      <th>FFMC</th>\n",
       "      <th>DMC</th>\n",
       "      <th>DC</th>\n",
       "      <th>ISI</th>\n",
       "      <th>temp</th>\n",
       "      <th>RH</th>\n",
       "      <th>wind</th>\n",
       "      <th>rain</th>\n",
       "      <th>...</th>\n",
       "      <th>monthfeb</th>\n",
       "      <th>monthjan</th>\n",
       "      <th>monthjul</th>\n",
       "      <th>monthjun</th>\n",
       "      <th>monthmar</th>\n",
       "      <th>monthmay</th>\n",
       "      <th>monthnov</th>\n",
       "      <th>monthoct</th>\n",
       "      <th>monthsep</th>\n",
       "      <th>size_category</th>\n",
       "    </tr>\n",
       "  </thead>\n",
       "  <tbody>\n",
       "    <tr>\n",
       "      <th>0</th>\n",
       "      <td>mar</td>\n",
       "      <td>fri</td>\n",
       "      <td>86.2</td>\n",
       "      <td>26.2</td>\n",
       "      <td>94.3</td>\n",
       "      <td>5.1</td>\n",
       "      <td>8.2</td>\n",
       "      <td>51</td>\n",
       "      <td>6.7</td>\n",
       "      <td>0.0</td>\n",
       "      <td>...</td>\n",
       "      <td>0</td>\n",
       "      <td>0</td>\n",
       "      <td>0</td>\n",
       "      <td>0</td>\n",
       "      <td>1</td>\n",
       "      <td>0</td>\n",
       "      <td>0</td>\n",
       "      <td>0</td>\n",
       "      <td>0</td>\n",
       "      <td>small</td>\n",
       "    </tr>\n",
       "    <tr>\n",
       "      <th>1</th>\n",
       "      <td>oct</td>\n",
       "      <td>tue</td>\n",
       "      <td>90.6</td>\n",
       "      <td>35.4</td>\n",
       "      <td>669.1</td>\n",
       "      <td>6.7</td>\n",
       "      <td>18.0</td>\n",
       "      <td>33</td>\n",
       "      <td>0.9</td>\n",
       "      <td>0.0</td>\n",
       "      <td>...</td>\n",
       "      <td>0</td>\n",
       "      <td>0</td>\n",
       "      <td>0</td>\n",
       "      <td>0</td>\n",
       "      <td>0</td>\n",
       "      <td>0</td>\n",
       "      <td>0</td>\n",
       "      <td>1</td>\n",
       "      <td>0</td>\n",
       "      <td>small</td>\n",
       "    </tr>\n",
       "    <tr>\n",
       "      <th>2</th>\n",
       "      <td>oct</td>\n",
       "      <td>sat</td>\n",
       "      <td>90.6</td>\n",
       "      <td>43.7</td>\n",
       "      <td>686.9</td>\n",
       "      <td>6.7</td>\n",
       "      <td>14.6</td>\n",
       "      <td>33</td>\n",
       "      <td>1.3</td>\n",
       "      <td>0.0</td>\n",
       "      <td>...</td>\n",
       "      <td>0</td>\n",
       "      <td>0</td>\n",
       "      <td>0</td>\n",
       "      <td>0</td>\n",
       "      <td>0</td>\n",
       "      <td>0</td>\n",
       "      <td>0</td>\n",
       "      <td>1</td>\n",
       "      <td>0</td>\n",
       "      <td>small</td>\n",
       "    </tr>\n",
       "    <tr>\n",
       "      <th>3</th>\n",
       "      <td>mar</td>\n",
       "      <td>fri</td>\n",
       "      <td>91.7</td>\n",
       "      <td>33.3</td>\n",
       "      <td>77.5</td>\n",
       "      <td>9.0</td>\n",
       "      <td>8.3</td>\n",
       "      <td>97</td>\n",
       "      <td>4.0</td>\n",
       "      <td>0.2</td>\n",
       "      <td>...</td>\n",
       "      <td>0</td>\n",
       "      <td>0</td>\n",
       "      <td>0</td>\n",
       "      <td>0</td>\n",
       "      <td>1</td>\n",
       "      <td>0</td>\n",
       "      <td>0</td>\n",
       "      <td>0</td>\n",
       "      <td>0</td>\n",
       "      <td>small</td>\n",
       "    </tr>\n",
       "    <tr>\n",
       "      <th>4</th>\n",
       "      <td>mar</td>\n",
       "      <td>sun</td>\n",
       "      <td>89.3</td>\n",
       "      <td>51.3</td>\n",
       "      <td>102.2</td>\n",
       "      <td>9.6</td>\n",
       "      <td>11.4</td>\n",
       "      <td>99</td>\n",
       "      <td>1.8</td>\n",
       "      <td>0.0</td>\n",
       "      <td>...</td>\n",
       "      <td>0</td>\n",
       "      <td>0</td>\n",
       "      <td>0</td>\n",
       "      <td>0</td>\n",
       "      <td>1</td>\n",
       "      <td>0</td>\n",
       "      <td>0</td>\n",
       "      <td>0</td>\n",
       "      <td>0</td>\n",
       "      <td>small</td>\n",
       "    </tr>\n",
       "  </tbody>\n",
       "</table>\n",
       "<p>5 rows × 31 columns</p>\n",
       "</div>"
      ],
      "text/plain": [
       "  month  day  FFMC   DMC     DC  ISI  temp  RH  wind  rain  ...  monthfeb  \\\n",
       "0   mar  fri  86.2  26.2   94.3  5.1   8.2  51   6.7   0.0  ...         0   \n",
       "1   oct  tue  90.6  35.4  669.1  6.7  18.0  33   0.9   0.0  ...         0   \n",
       "2   oct  sat  90.6  43.7  686.9  6.7  14.6  33   1.3   0.0  ...         0   \n",
       "3   mar  fri  91.7  33.3   77.5  9.0   8.3  97   4.0   0.2  ...         0   \n",
       "4   mar  sun  89.3  51.3  102.2  9.6  11.4  99   1.8   0.0  ...         0   \n",
       "\n",
       "   monthjan  monthjul  monthjun  monthmar  monthmay  monthnov  monthoct  \\\n",
       "0         0         0         0         1         0         0         0   \n",
       "1         0         0         0         0         0         0         1   \n",
       "2         0         0         0         0         0         0         1   \n",
       "3         0         0         0         1         0         0         0   \n",
       "4         0         0         0         1         0         0         0   \n",
       "\n",
       "   monthsep  size_category  \n",
       "0         0          small  \n",
       "1         0          small  \n",
       "2         0          small  \n",
       "3         0          small  \n",
       "4         0          small  \n",
       "\n",
       "[5 rows x 31 columns]"
      ]
     },
     "execution_count": 4,
     "metadata": {},
     "output_type": "execute_result"
    }
   ],
   "source": [
    "q1.head()"
   ]
  },
  {
   "cell_type": "code",
   "execution_count": 5,
   "id": "e9c42258",
   "metadata": {},
   "outputs": [
    {
     "name": "stdout",
     "output_type": "stream",
     "text": [
      "<class 'pandas.core.frame.DataFrame'>\n",
      "RangeIndex: 517 entries, 0 to 516\n",
      "Data columns (total 31 columns):\n",
      " #   Column         Non-Null Count  Dtype  \n",
      "---  ------         --------------  -----  \n",
      " 0   month          517 non-null    object \n",
      " 1   day            517 non-null    object \n",
      " 2   FFMC           517 non-null    float64\n",
      " 3   DMC            517 non-null    float64\n",
      " 4   DC             517 non-null    float64\n",
      " 5   ISI            517 non-null    float64\n",
      " 6   temp           517 non-null    float64\n",
      " 7   RH             517 non-null    int64  \n",
      " 8   wind           517 non-null    float64\n",
      " 9   rain           517 non-null    float64\n",
      " 10  area           517 non-null    float64\n",
      " 11  dayfri         517 non-null    int64  \n",
      " 12  daymon         517 non-null    int64  \n",
      " 13  daysat         517 non-null    int64  \n",
      " 14  daysun         517 non-null    int64  \n",
      " 15  daythu         517 non-null    int64  \n",
      " 16  daytue         517 non-null    int64  \n",
      " 17  daywed         517 non-null    int64  \n",
      " 18  monthapr       517 non-null    int64  \n",
      " 19  monthaug       517 non-null    int64  \n",
      " 20  monthdec       517 non-null    int64  \n",
      " 21  monthfeb       517 non-null    int64  \n",
      " 22  monthjan       517 non-null    int64  \n",
      " 23  monthjul       517 non-null    int64  \n",
      " 24  monthjun       517 non-null    int64  \n",
      " 25  monthmar       517 non-null    int64  \n",
      " 26  monthmay       517 non-null    int64  \n",
      " 27  monthnov       517 non-null    int64  \n",
      " 28  monthoct       517 non-null    int64  \n",
      " 29  monthsep       517 non-null    int64  \n",
      " 30  size_category  517 non-null    object \n",
      "dtypes: float64(8), int64(20), object(3)\n",
      "memory usage: 125.3+ KB\n"
     ]
    }
   ],
   "source": [
    "q1.info()"
   ]
  },
  {
   "cell_type": "code",
   "execution_count": 6,
   "id": "ae0e019c",
   "metadata": {},
   "outputs": [
    {
     "data": {
      "text/plain": [
       "month            0\n",
       "day              0\n",
       "FFMC             0\n",
       "DMC              0\n",
       "DC               0\n",
       "ISI              0\n",
       "temp             0\n",
       "RH               0\n",
       "wind             0\n",
       "rain             0\n",
       "area             0\n",
       "dayfri           0\n",
       "daymon           0\n",
       "daysat           0\n",
       "daysun           0\n",
       "daythu           0\n",
       "daytue           0\n",
       "daywed           0\n",
       "monthapr         0\n",
       "monthaug         0\n",
       "monthdec         0\n",
       "monthfeb         0\n",
       "monthjan         0\n",
       "monthjul         0\n",
       "monthjun         0\n",
       "monthmar         0\n",
       "monthmay         0\n",
       "monthnov         0\n",
       "monthoct         0\n",
       "monthsep         0\n",
       "size_category    0\n",
       "dtype: int64"
      ]
     },
     "execution_count": 6,
     "metadata": {},
     "output_type": "execute_result"
    }
   ],
   "source": [
    "q1.isnull().sum()"
   ]
  },
  {
   "cell_type": "code",
   "execution_count": 7,
   "id": "07373ae7",
   "metadata": {},
   "outputs": [],
   "source": [
    "q1.drop(['month','day'],axis=1,inplace=True)"
   ]
  },
  {
   "cell_type": "code",
   "execution_count": 8,
   "id": "bfdf74d2",
   "metadata": {},
   "outputs": [
    {
     "data": {
      "text/html": [
       "<div>\n",
       "<style scoped>\n",
       "    .dataframe tbody tr th:only-of-type {\n",
       "        vertical-align: middle;\n",
       "    }\n",
       "\n",
       "    .dataframe tbody tr th {\n",
       "        vertical-align: top;\n",
       "    }\n",
       "\n",
       "    .dataframe thead th {\n",
       "        text-align: right;\n",
       "    }\n",
       "</style>\n",
       "<table border=\"1\" class=\"dataframe\">\n",
       "  <thead>\n",
       "    <tr style=\"text-align: right;\">\n",
       "      <th></th>\n",
       "      <th>FFMC</th>\n",
       "      <th>DMC</th>\n",
       "      <th>DC</th>\n",
       "      <th>ISI</th>\n",
       "      <th>temp</th>\n",
       "      <th>RH</th>\n",
       "      <th>wind</th>\n",
       "      <th>rain</th>\n",
       "      <th>area</th>\n",
       "      <th>dayfri</th>\n",
       "      <th>...</th>\n",
       "      <th>monthfeb</th>\n",
       "      <th>monthjan</th>\n",
       "      <th>monthjul</th>\n",
       "      <th>monthjun</th>\n",
       "      <th>monthmar</th>\n",
       "      <th>monthmay</th>\n",
       "      <th>monthnov</th>\n",
       "      <th>monthoct</th>\n",
       "      <th>monthsep</th>\n",
       "      <th>size_category</th>\n",
       "    </tr>\n",
       "  </thead>\n",
       "  <tbody>\n",
       "    <tr>\n",
       "      <th>0</th>\n",
       "      <td>86.2</td>\n",
       "      <td>26.2</td>\n",
       "      <td>94.3</td>\n",
       "      <td>5.1</td>\n",
       "      <td>8.2</td>\n",
       "      <td>51</td>\n",
       "      <td>6.7</td>\n",
       "      <td>0.0</td>\n",
       "      <td>0.0</td>\n",
       "      <td>1</td>\n",
       "      <td>...</td>\n",
       "      <td>0</td>\n",
       "      <td>0</td>\n",
       "      <td>0</td>\n",
       "      <td>0</td>\n",
       "      <td>1</td>\n",
       "      <td>0</td>\n",
       "      <td>0</td>\n",
       "      <td>0</td>\n",
       "      <td>0</td>\n",
       "      <td>small</td>\n",
       "    </tr>\n",
       "    <tr>\n",
       "      <th>1</th>\n",
       "      <td>90.6</td>\n",
       "      <td>35.4</td>\n",
       "      <td>669.1</td>\n",
       "      <td>6.7</td>\n",
       "      <td>18.0</td>\n",
       "      <td>33</td>\n",
       "      <td>0.9</td>\n",
       "      <td>0.0</td>\n",
       "      <td>0.0</td>\n",
       "      <td>0</td>\n",
       "      <td>...</td>\n",
       "      <td>0</td>\n",
       "      <td>0</td>\n",
       "      <td>0</td>\n",
       "      <td>0</td>\n",
       "      <td>0</td>\n",
       "      <td>0</td>\n",
       "      <td>0</td>\n",
       "      <td>1</td>\n",
       "      <td>0</td>\n",
       "      <td>small</td>\n",
       "    </tr>\n",
       "    <tr>\n",
       "      <th>2</th>\n",
       "      <td>90.6</td>\n",
       "      <td>43.7</td>\n",
       "      <td>686.9</td>\n",
       "      <td>6.7</td>\n",
       "      <td>14.6</td>\n",
       "      <td>33</td>\n",
       "      <td>1.3</td>\n",
       "      <td>0.0</td>\n",
       "      <td>0.0</td>\n",
       "      <td>0</td>\n",
       "      <td>...</td>\n",
       "      <td>0</td>\n",
       "      <td>0</td>\n",
       "      <td>0</td>\n",
       "      <td>0</td>\n",
       "      <td>0</td>\n",
       "      <td>0</td>\n",
       "      <td>0</td>\n",
       "      <td>1</td>\n",
       "      <td>0</td>\n",
       "      <td>small</td>\n",
       "    </tr>\n",
       "    <tr>\n",
       "      <th>3</th>\n",
       "      <td>91.7</td>\n",
       "      <td>33.3</td>\n",
       "      <td>77.5</td>\n",
       "      <td>9.0</td>\n",
       "      <td>8.3</td>\n",
       "      <td>97</td>\n",
       "      <td>4.0</td>\n",
       "      <td>0.2</td>\n",
       "      <td>0.0</td>\n",
       "      <td>1</td>\n",
       "      <td>...</td>\n",
       "      <td>0</td>\n",
       "      <td>0</td>\n",
       "      <td>0</td>\n",
       "      <td>0</td>\n",
       "      <td>1</td>\n",
       "      <td>0</td>\n",
       "      <td>0</td>\n",
       "      <td>0</td>\n",
       "      <td>0</td>\n",
       "      <td>small</td>\n",
       "    </tr>\n",
       "    <tr>\n",
       "      <th>4</th>\n",
       "      <td>89.3</td>\n",
       "      <td>51.3</td>\n",
       "      <td>102.2</td>\n",
       "      <td>9.6</td>\n",
       "      <td>11.4</td>\n",
       "      <td>99</td>\n",
       "      <td>1.8</td>\n",
       "      <td>0.0</td>\n",
       "      <td>0.0</td>\n",
       "      <td>0</td>\n",
       "      <td>...</td>\n",
       "      <td>0</td>\n",
       "      <td>0</td>\n",
       "      <td>0</td>\n",
       "      <td>0</td>\n",
       "      <td>1</td>\n",
       "      <td>0</td>\n",
       "      <td>0</td>\n",
       "      <td>0</td>\n",
       "      <td>0</td>\n",
       "      <td>small</td>\n",
       "    </tr>\n",
       "  </tbody>\n",
       "</table>\n",
       "<p>5 rows × 29 columns</p>\n",
       "</div>"
      ],
      "text/plain": [
       "   FFMC   DMC     DC  ISI  temp  RH  wind  rain  area  dayfri  ...  monthfeb  \\\n",
       "0  86.2  26.2   94.3  5.1   8.2  51   6.7   0.0   0.0       1  ...         0   \n",
       "1  90.6  35.4  669.1  6.7  18.0  33   0.9   0.0   0.0       0  ...         0   \n",
       "2  90.6  43.7  686.9  6.7  14.6  33   1.3   0.0   0.0       0  ...         0   \n",
       "3  91.7  33.3   77.5  9.0   8.3  97   4.0   0.2   0.0       1  ...         0   \n",
       "4  89.3  51.3  102.2  9.6  11.4  99   1.8   0.0   0.0       0  ...         0   \n",
       "\n",
       "   monthjan  monthjul  monthjun  monthmar  monthmay  monthnov  monthoct  \\\n",
       "0         0         0         0         1         0         0         0   \n",
       "1         0         0         0         0         0         0         1   \n",
       "2         0         0         0         0         0         0         1   \n",
       "3         0         0         0         1         0         0         0   \n",
       "4         0         0         0         1         0         0         0   \n",
       "\n",
       "   monthsep  size_category  \n",
       "0         0          small  \n",
       "1         0          small  \n",
       "2         0          small  \n",
       "3         0          small  \n",
       "4         0          small  \n",
       "\n",
       "[5 rows x 29 columns]"
      ]
     },
     "execution_count": 8,
     "metadata": {},
     "output_type": "execute_result"
    }
   ],
   "source": [
    "q1.head()"
   ]
  },
  {
   "cell_type": "code",
   "execution_count": 9,
   "id": "1b1a35af",
   "metadata": {},
   "outputs": [],
   "source": [
    "mapping = {'small': 1, 'large': 2}"
   ]
  },
  {
   "cell_type": "code",
   "execution_count": 10,
   "id": "3e8abb76",
   "metadata": {},
   "outputs": [],
   "source": [
    "q1=q1.replace(mapping)"
   ]
  },
  {
   "cell_type": "code",
   "execution_count": 11,
   "id": "014f1582",
   "metadata": {},
   "outputs": [],
   "source": [
    "x = np.array(q1.iloc[:,0:28])\n",
    "y = np.array(q1.iloc[:,28])"
   ]
  },
  {
   "cell_type": "code",
   "execution_count": 12,
   "id": "8d4ae1c0",
   "metadata": {},
   "outputs": [],
   "source": [
    "def norm_func(i):\n",
    "    x = (i-i.min())/(i.max()-i.min())\n",
    "    return (x)"
   ]
  },
  {
   "cell_type": "code",
   "execution_count": 13,
   "id": "2333687d",
   "metadata": {},
   "outputs": [],
   "source": [
    "x_norm = norm_func(x)"
   ]
  },
  {
   "cell_type": "code",
   "execution_count": 14,
   "id": "165cf9a2",
   "metadata": {},
   "outputs": [],
   "source": [
    "x_train,x_test,y_train,y_test= train_test_split(x_norm,y, test_size=0.2,stratify = y)"
   ]
  },
  {
   "cell_type": "code",
   "execution_count": 15,
   "id": "4f6bc74a",
   "metadata": {},
   "outputs": [],
   "source": [
    "model = Sequential()\n",
    "model.add(Dense(8, input_dim=28, activation='linear'))\n",
    "model.add(Dense(4,  activation='tanh'))\n",
    "model.add(Dense(1,  activation='sigmoid'))"
   ]
  },
  {
   "cell_type": "code",
   "execution_count": 16,
   "id": "82499625",
   "metadata": {},
   "outputs": [],
   "source": [
    "model.compile(loss='binary_crossentropy', optimizer='adam', metrics=['accuracy'])"
   ]
  },
  {
   "cell_type": "code",
   "execution_count": 21,
   "id": "cbc3d6d7",
   "metadata": {},
   "outputs": [
    {
     "name": "stdout",
     "output_type": "stream",
     "text": [
      "Epoch 1/120\n",
      "29/29 [==============================] - 0s 4ms/step - loss: -4.7646 - accuracy: 0.7336 - val_loss: -4.9217 - val_accuracy: 0.7258\n",
      "Epoch 2/120\n",
      "29/29 [==============================] - 0s 3ms/step - loss: -4.7988 - accuracy: 0.7336 - val_loss: -4.9570 - val_accuracy: 0.7258\n",
      "Epoch 3/120\n",
      "29/29 [==============================] - 0s 3ms/step - loss: -4.8331 - accuracy: 0.7336 - val_loss: -4.9928 - val_accuracy: 0.7258\n",
      "Epoch 4/120\n",
      "29/29 [==============================] - 0s 3ms/step - loss: -4.8678 - accuracy: 0.7336 - val_loss: -5.0279 - val_accuracy: 0.7258\n",
      "Epoch 5/120\n",
      "29/29 [==============================] - 0s 3ms/step - loss: -4.9017 - accuracy: 0.7336 - val_loss: -5.0647 - val_accuracy: 0.7258\n",
      "Epoch 6/120\n",
      "29/29 [==============================] - 0s 3ms/step - loss: -4.9367 - accuracy: 0.7336 - val_loss: -5.0997 - val_accuracy: 0.7258\n",
      "Epoch 7/120\n",
      "29/29 [==============================] - 0s 3ms/step - loss: -4.9712 - accuracy: 0.7336 - val_loss: -5.1347 - val_accuracy: 0.7258\n",
      "Epoch 8/120\n",
      "29/29 [==============================] - 0s 3ms/step - loss: -5.0058 - accuracy: 0.7336 - val_loss: -5.1694 - val_accuracy: 0.7258\n",
      "Epoch 9/120\n",
      "29/29 [==============================] - 0s 3ms/step - loss: -5.0393 - accuracy: 0.7336 - val_loss: -5.2068 - val_accuracy: 0.7258\n",
      "Epoch 10/120\n",
      "29/29 [==============================] - 0s 3ms/step - loss: -5.0745 - accuracy: 0.7336 - val_loss: -5.2419 - val_accuracy: 0.7258\n",
      "Epoch 11/120\n",
      "29/29 [==============================] - 0s 2ms/step - loss: -5.1094 - accuracy: 0.7336 - val_loss: -5.2756 - val_accuracy: 0.7258\n",
      "Epoch 12/120\n",
      "29/29 [==============================] - 0s 3ms/step - loss: -5.1432 - accuracy: 0.7336 - val_loss: -5.3118 - val_accuracy: 0.7258\n",
      "Epoch 13/120\n",
      "29/29 [==============================] - 0s 3ms/step - loss: -5.1781 - accuracy: 0.7336 - val_loss: -5.3468 - val_accuracy: 0.7258\n",
      "Epoch 14/120\n",
      "29/29 [==============================] - 0s 3ms/step - loss: -5.2125 - accuracy: 0.7336 - val_loss: -5.3822 - val_accuracy: 0.7258\n",
      "Epoch 15/120\n",
      "29/29 [==============================] - 0s 4ms/step - loss: -5.2467 - accuracy: 0.7336 - val_loss: -5.4185 - val_accuracy: 0.7258\n",
      "Epoch 16/120\n",
      "29/29 [==============================] - 0s 3ms/step - loss: -5.2811 - accuracy: 0.7336 - val_loss: -5.4549 - val_accuracy: 0.7258\n",
      "Epoch 17/120\n",
      "29/29 [==============================] - 0s 3ms/step - loss: -5.3167 - accuracy: 0.7336 - val_loss: -5.4882 - val_accuracy: 0.7258\n",
      "Epoch 18/120\n",
      "29/29 [==============================] - 0s 4ms/step - loss: -5.3503 - accuracy: 0.7336 - val_loss: -5.5243 - val_accuracy: 0.7258\n",
      "Epoch 19/120\n",
      "29/29 [==============================] - 0s 2ms/step - loss: -5.3845 - accuracy: 0.7336 - val_loss: -5.5609 - val_accuracy: 0.7258\n",
      "Epoch 20/120\n",
      "29/29 [==============================] - 0s 3ms/step - loss: -5.4188 - accuracy: 0.7336 - val_loss: -5.5975 - val_accuracy: 0.7258\n",
      "Epoch 21/120\n",
      "29/29 [==============================] - 0s 2ms/step - loss: -5.4540 - accuracy: 0.7336 - val_loss: -5.6319 - val_accuracy: 0.7258\n",
      "Epoch 22/120\n",
      "29/29 [==============================] - 0s 3ms/step - loss: -5.4883 - accuracy: 0.7336 - val_loss: -5.6661 - val_accuracy: 0.7258\n",
      "Epoch 23/120\n",
      "29/29 [==============================] - 0s 3ms/step - loss: -5.5223 - accuracy: 0.7336 - val_loss: -5.7015 - val_accuracy: 0.7258\n",
      "Epoch 24/120\n",
      "29/29 [==============================] - 0s 4ms/step - loss: -5.5564 - accuracy: 0.7336 - val_loss: -5.7373 - val_accuracy: 0.7258\n",
      "Epoch 25/120\n",
      "29/29 [==============================] - 0s 3ms/step - loss: -5.5910 - accuracy: 0.7336 - val_loss: -5.7723 - val_accuracy: 0.7258\n",
      "Epoch 26/120\n",
      "29/29 [==============================] - 0s 3ms/step - loss: -5.6253 - accuracy: 0.7336 - val_loss: -5.8080 - val_accuracy: 0.7258\n",
      "Epoch 27/120\n",
      "29/29 [==============================] - 0s 4ms/step - loss: -5.6598 - accuracy: 0.7336 - val_loss: -5.8431 - val_accuracy: 0.7258\n",
      "Epoch 28/120\n",
      "29/29 [==============================] - 0s 3ms/step - loss: -5.6932 - accuracy: 0.7336 - val_loss: -5.8805 - val_accuracy: 0.7258\n",
      "Epoch 29/120\n",
      "29/29 [==============================] - 0s 4ms/step - loss: -5.7287 - accuracy: 0.7336 - val_loss: -5.9141 - val_accuracy: 0.7258\n",
      "Epoch 30/120\n",
      "29/29 [==============================] - 0s 3ms/step - loss: -5.7631 - accuracy: 0.7336 - val_loss: -5.9479 - val_accuracy: 0.7258\n",
      "Epoch 31/120\n",
      "29/29 [==============================] - 0s 4ms/step - loss: -5.7968 - accuracy: 0.7336 - val_loss: -5.9842 - val_accuracy: 0.7258\n",
      "Epoch 32/120\n",
      "29/29 [==============================] - 0s 5ms/step - loss: -5.8311 - accuracy: 0.7336 - val_loss: -6.0203 - val_accuracy: 0.7258\n",
      "Epoch 33/120\n",
      "29/29 [==============================] - 0s 7ms/step - loss: -5.8660 - accuracy: 0.7336 - val_loss: -6.0549 - val_accuracy: 0.7258\n",
      "Epoch 34/120\n",
      "29/29 [==============================] - 0s 6ms/step - loss: -5.9004 - accuracy: 0.7336 - val_loss: -6.0891 - val_accuracy: 0.7258\n",
      "Epoch 35/120\n",
      "29/29 [==============================] - 0s 5ms/step - loss: -5.9342 - accuracy: 0.7336 - val_loss: -6.1257 - val_accuracy: 0.7258\n",
      "Epoch 36/120\n",
      "29/29 [==============================] - 0s 5ms/step - loss: -5.9687 - accuracy: 0.7336 - val_loss: -6.1619 - val_accuracy: 0.7258\n",
      "Epoch 37/120\n",
      "29/29 [==============================] - 0s 5ms/step - loss: -6.0027 - accuracy: 0.7336 - val_loss: -6.1987 - val_accuracy: 0.7258\n",
      "Epoch 38/120\n",
      "29/29 [==============================] - 0s 6ms/step - loss: -6.0386 - accuracy: 0.7336 - val_loss: -6.2311 - val_accuracy: 0.7258\n",
      "Epoch 39/120\n",
      "29/29 [==============================] - 0s 5ms/step - loss: -6.0717 - accuracy: 0.7336 - val_loss: -6.2676 - val_accuracy: 0.7258\n",
      "Epoch 40/120\n",
      "29/29 [==============================] - 0s 5ms/step - loss: -6.1064 - accuracy: 0.7336 - val_loss: -6.3035 - val_accuracy: 0.7258\n",
      "Epoch 41/120\n",
      "29/29 [==============================] - 0s 4ms/step - loss: -6.1408 - accuracy: 0.7336 - val_loss: -6.3392 - val_accuracy: 0.7258\n",
      "Epoch 42/120\n",
      "29/29 [==============================] - 0s 5ms/step - loss: -6.1752 - accuracy: 0.7336 - val_loss: -6.3750 - val_accuracy: 0.7258\n",
      "Epoch 43/120\n",
      "29/29 [==============================] - 0s 5ms/step - loss: -6.2101 - accuracy: 0.7336 - val_loss: -6.4094 - val_accuracy: 0.7258\n",
      "Epoch 44/120\n",
      "29/29 [==============================] - 0s 5ms/step - loss: -6.2445 - accuracy: 0.7336 - val_loss: -6.4437 - val_accuracy: 0.7258\n",
      "Epoch 45/120\n",
      "29/29 [==============================] - 0s 5ms/step - loss: -6.2785 - accuracy: 0.7336 - val_loss: -6.4799 - val_accuracy: 0.7258\n",
      "Epoch 46/120\n",
      "29/29 [==============================] - 0s 5ms/step - loss: -6.3130 - accuracy: 0.7336 - val_loss: -6.5160 - val_accuracy: 0.7258\n",
      "Epoch 47/120\n",
      "29/29 [==============================] - 0s 5ms/step - loss: -6.3481 - accuracy: 0.7336 - val_loss: -6.5501 - val_accuracy: 0.7258\n",
      "Epoch 48/120\n",
      "29/29 [==============================] - 0s 5ms/step - loss: -6.3817 - accuracy: 0.7336 - val_loss: -6.5868 - val_accuracy: 0.7258\n",
      "Epoch 49/120\n",
      "29/29 [==============================] - 0s 5ms/step - loss: -6.4164 - accuracy: 0.7336 - val_loss: -6.6228 - val_accuracy: 0.7258\n",
      "Epoch 50/120\n",
      "29/29 [==============================] - 0s 5ms/step - loss: -6.4514 - accuracy: 0.7336 - val_loss: -6.6569 - val_accuracy: 0.7258\n",
      "Epoch 51/120\n",
      "29/29 [==============================] - 0s 5ms/step - loss: -6.4854 - accuracy: 0.7336 - val_loss: -6.6925 - val_accuracy: 0.7258\n",
      "Epoch 52/120\n",
      "29/29 [==============================] - 0s 5ms/step - loss: -6.5198 - accuracy: 0.7336 - val_loss: -6.7282 - val_accuracy: 0.7258\n",
      "Epoch 53/120\n",
      "29/29 [==============================] - 0s 5ms/step - loss: -6.5543 - accuracy: 0.7336 - val_loss: -6.7638 - val_accuracy: 0.7258\n",
      "Epoch 54/120\n",
      "29/29 [==============================] - 0s 5ms/step - loss: -6.5888 - accuracy: 0.7336 - val_loss: -6.7991 - val_accuracy: 0.7258\n",
      "Epoch 55/120\n",
      "29/29 [==============================] - 0s 5ms/step - loss: -6.6233 - accuracy: 0.7336 - val_loss: -6.8339 - val_accuracy: 0.7258\n",
      "Epoch 56/120\n",
      "29/29 [==============================] - 0s 5ms/step - loss: -6.6570 - accuracy: 0.7336 - val_loss: -6.8711 - val_accuracy: 0.7258\n",
      "Epoch 57/120\n",
      "29/29 [==============================] - 0s 5ms/step - loss: -6.6923 - accuracy: 0.7336 - val_loss: -6.9052 - val_accuracy: 0.7258\n"
     ]
    },
    {
     "name": "stdout",
     "output_type": "stream",
     "text": [
      "Epoch 58/120\n",
      "29/29 [==============================] - 0s 5ms/step - loss: -6.7261 - accuracy: 0.7336 - val_loss: -6.9412 - val_accuracy: 0.7258\n",
      "Epoch 59/120\n",
      "29/29 [==============================] - 0s 5ms/step - loss: -6.7609 - accuracy: 0.7336 - val_loss: -6.9761 - val_accuracy: 0.7258\n",
      "Epoch 60/120\n",
      "29/29 [==============================] - 0s 5ms/step - loss: -6.7953 - accuracy: 0.7336 - val_loss: -7.0111 - val_accuracy: 0.7258\n",
      "Epoch 61/120\n",
      "29/29 [==============================] - 0s 5ms/step - loss: -6.8294 - accuracy: 0.7336 - val_loss: -7.0469 - val_accuracy: 0.7258\n",
      "Epoch 62/120\n",
      "29/29 [==============================] - 0s 5ms/step - loss: -6.8646 - accuracy: 0.7336 - val_loss: -7.0808 - val_accuracy: 0.7258\n",
      "Epoch 63/120\n",
      "29/29 [==============================] - 0s 4ms/step - loss: -6.8983 - accuracy: 0.7336 - val_loss: -7.1177 - val_accuracy: 0.7258\n",
      "Epoch 64/120\n",
      "29/29 [==============================] - 0s 5ms/step - loss: -6.9334 - accuracy: 0.7336 - val_loss: -7.1530 - val_accuracy: 0.7258\n",
      "Epoch 65/120\n",
      "29/29 [==============================] - 0s 4ms/step - loss: -6.9679 - accuracy: 0.7336 - val_loss: -7.1878 - val_accuracy: 0.7258\n",
      "Epoch 66/120\n",
      "29/29 [==============================] - 0s 5ms/step - loss: -7.0010 - accuracy: 0.7336 - val_loss: -7.2262 - val_accuracy: 0.7258\n",
      "Epoch 67/120\n",
      "29/29 [==============================] - 0s 5ms/step - loss: -7.0365 - accuracy: 0.7336 - val_loss: -7.2611 - val_accuracy: 0.7258\n",
      "Epoch 68/120\n",
      "29/29 [==============================] - 0s 5ms/step - loss: -7.0714 - accuracy: 0.7336 - val_loss: -7.2949 - val_accuracy: 0.7258\n",
      "Epoch 69/120\n",
      "29/29 [==============================] - 0s 5ms/step - loss: -7.1046 - accuracy: 0.7336 - val_loss: -7.3319 - val_accuracy: 0.7258\n",
      "Epoch 70/120\n",
      "29/29 [==============================] - 0s 5ms/step - loss: -7.1399 - accuracy: 0.7336 - val_loss: -7.3665 - val_accuracy: 0.7258\n",
      "Epoch 71/120\n",
      "29/29 [==============================] - 0s 5ms/step - loss: -7.1732 - accuracy: 0.7336 - val_loss: -7.4033 - val_accuracy: 0.7258\n",
      "Epoch 72/120\n",
      "29/29 [==============================] - 0s 5ms/step - loss: -7.2082 - accuracy: 0.7336 - val_loss: -7.4380 - val_accuracy: 0.7258\n",
      "Epoch 73/120\n",
      "29/29 [==============================] - 0s 5ms/step - loss: -7.2428 - accuracy: 0.7336 - val_loss: -7.4720 - val_accuracy: 0.7258\n",
      "Epoch 74/120\n",
      "29/29 [==============================] - 0s 4ms/step - loss: -7.2764 - accuracy: 0.7336 - val_loss: -7.5081 - val_accuracy: 0.7258\n",
      "Epoch 75/120\n",
      "29/29 [==============================] - 0s 5ms/step - loss: -7.3113 - accuracy: 0.7336 - val_loss: -7.5427 - val_accuracy: 0.7258\n",
      "Epoch 76/120\n",
      "29/29 [==============================] - 0s 5ms/step - loss: -7.3460 - accuracy: 0.7336 - val_loss: -7.5764 - val_accuracy: 0.7258\n",
      "Epoch 77/120\n",
      "29/29 [==============================] - 0s 5ms/step - loss: -7.3795 - accuracy: 0.7336 - val_loss: -7.6126 - val_accuracy: 0.7258\n",
      "Epoch 78/120\n",
      "29/29 [==============================] - 0s 5ms/step - loss: -7.4135 - accuracy: 0.7336 - val_loss: -7.6497 - val_accuracy: 0.7258\n",
      "Epoch 79/120\n",
      "29/29 [==============================] - 0s 5ms/step - loss: -7.4488 - accuracy: 0.7336 - val_loss: -7.6843 - val_accuracy: 0.7258\n",
      "Epoch 80/120\n",
      "29/29 [==============================] - 0s 5ms/step - loss: -7.4829 - accuracy: 0.7336 - val_loss: -7.7195 - val_accuracy: 0.7258\n",
      "Epoch 81/120\n",
      "29/29 [==============================] - 0s 6ms/step - loss: -7.5174 - accuracy: 0.7336 - val_loss: -7.7543 - val_accuracy: 0.7258\n",
      "Epoch 82/120\n",
      "29/29 [==============================] - 0s 5ms/step - loss: -7.5514 - accuracy: 0.7336 - val_loss: -7.7899 - val_accuracy: 0.7258\n",
      "Epoch 83/120\n",
      "29/29 [==============================] - 0s 4ms/step - loss: -7.5859 - accuracy: 0.7336 - val_loss: -7.8254 - val_accuracy: 0.7258\n",
      "Epoch 84/120\n",
      "29/29 [==============================] - 0s 5ms/step - loss: -7.6201 - accuracy: 0.7336 - val_loss: -7.8612 - val_accuracy: 0.7258\n",
      "Epoch 85/120\n",
      "29/29 [==============================] - 0s 5ms/step - loss: -7.6550 - accuracy: 0.7336 - val_loss: -7.8947 - val_accuracy: 0.7258\n",
      "Epoch 86/120\n",
      "29/29 [==============================] - 0s 5ms/step - loss: -7.6889 - accuracy: 0.7336 - val_loss: -7.9296 - val_accuracy: 0.7258\n",
      "Epoch 87/120\n",
      "29/29 [==============================] - 0s 5ms/step - loss: -7.7227 - accuracy: 0.7336 - val_loss: -7.9663 - val_accuracy: 0.7258\n",
      "Epoch 88/120\n",
      "29/29 [==============================] - 0s 5ms/step - loss: -7.7575 - accuracy: 0.7336 - val_loss: -8.0015 - val_accuracy: 0.7258\n",
      "Epoch 89/120\n",
      "29/29 [==============================] - 0s 6ms/step - loss: -7.7922 - accuracy: 0.7336 - val_loss: -8.0355 - val_accuracy: 0.7258\n",
      "Epoch 90/120\n",
      "29/29 [==============================] - 0s 6ms/step - loss: -7.8251 - accuracy: 0.7336 - val_loss: -8.0734 - val_accuracy: 0.7258\n",
      "Epoch 91/120\n",
      "29/29 [==============================] - 0s 6ms/step - loss: -7.8604 - accuracy: 0.7336 - val_loss: -8.1085 - val_accuracy: 0.7258\n",
      "Epoch 92/120\n",
      "29/29 [==============================] - 0s 5ms/step - loss: -7.8953 - accuracy: 0.7336 - val_loss: -8.1412 - val_accuracy: 0.7258\n",
      "Epoch 93/120\n",
      "29/29 [==============================] - 0s 6ms/step - loss: -7.9286 - accuracy: 0.7336 - val_loss: -8.1773 - val_accuracy: 0.7258\n",
      "Epoch 94/120\n",
      "29/29 [==============================] - 0s 5ms/step - loss: -7.9633 - accuracy: 0.7336 - val_loss: -8.2127 - val_accuracy: 0.7258\n",
      "Epoch 95/120\n",
      "29/29 [==============================] - 0s 8ms/step - loss: -7.9972 - accuracy: 0.7336 - val_loss: -8.2487 - val_accuracy: 0.7258\n",
      "Epoch 96/120\n",
      "29/29 [==============================] - 0s 5ms/step - loss: -8.0316 - accuracy: 0.7336 - val_loss: -8.2842 - val_accuracy: 0.7258\n",
      "Epoch 97/120\n",
      "29/29 [==============================] - 0s 5ms/step - loss: -8.0662 - accuracy: 0.7336 - val_loss: -8.3187 - val_accuracy: 0.7258\n",
      "Epoch 98/120\n",
      "29/29 [==============================] - 0s 6ms/step - loss: -8.1002 - accuracy: 0.7336 - val_loss: -8.3538 - val_accuracy: 0.7258\n",
      "Epoch 99/120\n",
      "29/29 [==============================] - 0s 5ms/step - loss: -8.1346 - accuracy: 0.7336 - val_loss: -8.3888 - val_accuracy: 0.7258\n",
      "Epoch 100/120\n",
      "29/29 [==============================] - 0s 5ms/step - loss: -8.1686 - accuracy: 0.7336 - val_loss: -8.4246 - val_accuracy: 0.7258\n",
      "Epoch 101/120\n",
      "29/29 [==============================] - 0s 5ms/step - loss: -8.2034 - accuracy: 0.7336 - val_loss: -8.4586 - val_accuracy: 0.7258\n",
      "Epoch 102/120\n",
      "29/29 [==============================] - 0s 6ms/step - loss: -8.2371 - accuracy: 0.7336 - val_loss: -8.4947 - val_accuracy: 0.7258\n",
      "Epoch 103/120\n",
      "29/29 [==============================] - 0s 5ms/step - loss: -8.2713 - accuracy: 0.7336 - val_loss: -8.5313 - val_accuracy: 0.7258\n",
      "Epoch 104/120\n",
      "29/29 [==============================] - 0s 5ms/step - loss: -8.3060 - accuracy: 0.7336 - val_loss: -8.5660 - val_accuracy: 0.7258\n",
      "Epoch 105/120\n",
      "29/29 [==============================] - 0s 5ms/step - loss: -8.3402 - accuracy: 0.7336 - val_loss: -8.6014 - val_accuracy: 0.7258\n",
      "Epoch 106/120\n",
      "29/29 [==============================] - 0s 5ms/step - loss: -8.3747 - accuracy: 0.7336 - val_loss: -8.6361 - val_accuracy: 0.7258\n",
      "Epoch 107/120\n",
      "29/29 [==============================] - 0s 4ms/step - loss: -8.4080 - accuracy: 0.7336 - val_loss: -8.6736 - val_accuracy: 0.7258\n",
      "Epoch 108/120\n",
      "29/29 [==============================] - 0s 5ms/step - loss: -8.4433 - accuracy: 0.7336 - val_loss: -8.7082 - val_accuracy: 0.7258\n",
      "Epoch 109/120\n",
      "29/29 [==============================] - 0s 4ms/step - loss: -8.4772 - accuracy: 0.7336 - val_loss: -8.7437 - val_accuracy: 0.7258\n",
      "Epoch 110/120\n",
      "29/29 [==============================] - 0s 5ms/step - loss: -8.5119 - accuracy: 0.7336 - val_loss: -8.7778 - val_accuracy: 0.7258\n",
      "Epoch 111/120\n",
      "29/29 [==============================] - 0s 5ms/step - loss: -8.5462 - accuracy: 0.7336 - val_loss: -8.8118 - val_accuracy: 0.7258\n",
      "Epoch 112/120\n",
      "29/29 [==============================] - 0s 5ms/step - loss: -8.5798 - accuracy: 0.7336 - val_loss: -8.8478 - val_accuracy: 0.7258\n",
      "Epoch 113/120\n",
      "29/29 [==============================] - 0s 5ms/step - loss: -8.6142 - accuracy: 0.7336 - val_loss: -8.8836 - val_accuracy: 0.7258\n",
      "Epoch 114/120\n",
      "29/29 [==============================] - 0s 4ms/step - loss: -8.6488 - accuracy: 0.7336 - val_loss: -8.9185 - val_accuracy: 0.7258\n"
     ]
    },
    {
     "name": "stdout",
     "output_type": "stream",
     "text": [
      "Epoch 115/120\n",
      "29/29 [==============================] - 0s 5ms/step - loss: -8.6830 - accuracy: 0.7336 - val_loss: -8.9537 - val_accuracy: 0.7258\n",
      "Epoch 116/120\n",
      "29/29 [==============================] - 0s 4ms/step - loss: -8.7170 - accuracy: 0.7336 - val_loss: -8.9902 - val_accuracy: 0.7258\n",
      "Epoch 117/120\n",
      "29/29 [==============================] - 0s 5ms/step - loss: -8.7517 - accuracy: 0.7336 - val_loss: -9.0251 - val_accuracy: 0.7258\n",
      "Epoch 118/120\n",
      "29/29 [==============================] - 0s 5ms/step - loss: -8.7859 - accuracy: 0.7336 - val_loss: -9.0604 - val_accuracy: 0.7258\n",
      "Epoch 119/120\n",
      "29/29 [==============================] - 0s 5ms/step - loss: -8.8200 - accuracy: 0.7336 - val_loss: -9.0962 - val_accuracy: 0.7258\n",
      "Epoch 120/120\n",
      "29/29 [==============================] - 0s 6ms/step - loss: -8.8548 - accuracy: 0.7336 - val_loss: -9.1306 - val_accuracy: 0.7258\n"
     ]
    }
   ],
   "source": [
    "hist=model.fit(x_train, y_train, validation_split=0.3, epochs=120, batch_size=10)"
   ]
  },
  {
   "cell_type": "code",
   "execution_count": 22,
   "id": "9466a567",
   "metadata": {},
   "outputs": [
    {
     "name": "stdout",
     "output_type": "stream",
     "text": [
      "13/13 [==============================] - 0s 3ms/step - loss: -8.9498 - accuracy: 0.7312\n",
      "accuracy: 73.12%\n"
     ]
    }
   ],
   "source": [
    "scores = model.evaluate(x_train, y_train)\n",
    "print(\"%s: %.2f%%\" % (model.metrics_names[1], scores[1]*100))"
   ]
  },
  {
   "cell_type": "code",
   "execution_count": 23,
   "id": "96359507",
   "metadata": {},
   "outputs": [
    {
     "name": "stdout",
     "output_type": "stream",
     "text": [
      "4/4 [==============================] - 0s 5ms/step - loss: -8.9653 - accuracy: 0.7308\n",
      "accuracy: 73.08%\n"
     ]
    }
   ],
   "source": [
    "scores = model.evaluate(x_test, y_test)\n",
    "print(\"%s: %.2f%%\" % (model.metrics_names[1], scores[1]*100))"
   ]
  },
  {
   "cell_type": "code",
   "execution_count": 24,
   "id": "cea74734",
   "metadata": {},
   "outputs": [
    {
     "data": {
      "image/png": "[encoded data removed]",
      "text/plain": [
       "<Figure size 640x480 with 1 Axes>"
      ]
     },
     "metadata": {},
     "output_type": "display_data"
    }
   ],
   "source": [
    "plt.plot(hist.history['accuracy'])\n",
    "plt.plot(hist.history['val_accuracy'])\n",
    "plt.title('Accuracy of the network')\n",
    "plt.xlabel('Epochs')\n",
    "plt.ylabel('Accuracy')\n",
    "plt.show()"
   ]
  },
  {
   "cell_type": "markdown",
   "id": "18ee1b6a",
   "metadata": {},
   "source": [
    "# Question 2"
   ]
  },
  {
   "cell_type": "code",
   "execution_count": 25,
   "id": "f3f53747",
   "metadata": {},
   "outputs": [],
   "source": [
    "q2=pd.read_csv('gas_turbines.csv')"
   ]
  },
  {
   "cell_type": "code",
   "execution_count": 26,
   "id": "197cbce3",
   "metadata": {},
   "outputs": [
    {
     "data": {
      "text/html": [
       "<div>\n",
       "<style scoped>\n",
       "    .dataframe tbody tr th:only-of-type {\n",
       "        vertical-align: middle;\n",
       "    }\n",
       "\n",
       "    .dataframe tbody tr th {\n",
       "        vertical-align: top;\n",
       "    }\n",
       "\n",
       "    .dataframe thead th {\n",
       "        text-align: right;\n",
       "    }\n",
       "</style>\n",
       "<table border=\"1\" class=\"dataframe\">\n",
       "  <thead>\n",
       "    <tr style=\"text-align: right;\">\n",
       "      <th></th>\n",
       "      <th>AT</th>\n",
       "      <th>AP</th>\n",
       "      <th>AH</th>\n",
       "      <th>AFDP</th>\n",
       "      <th>GTEP</th>\n",
       "      <th>TIT</th>\n",
       "      <th>TAT</th>\n",
       "      <th>TEY</th>\n",
       "      <th>CDP</th>\n",
       "      <th>CO</th>\n",
       "      <th>NOX</th>\n",
       "    </tr>\n",
       "  </thead>\n",
       "  <tbody>\n",
       "    <tr>\n",
       "      <th>0</th>\n",
       "      <td>6.8594</td>\n",
       "      <td>1007.9</td>\n",
       "      <td>96.799</td>\n",
       "      <td>3.5000</td>\n",
       "      <td>19.663</td>\n",
       "      <td>1059.2</td>\n",
       "      <td>550.00</td>\n",
       "      <td>114.70</td>\n",
       "      <td>10.605</td>\n",
       "      <td>3.1547</td>\n",
       "      <td>82.722</td>\n",
       "    </tr>\n",
       "    <tr>\n",
       "      <th>1</th>\n",
       "      <td>6.7850</td>\n",
       "      <td>1008.4</td>\n",
       "      <td>97.118</td>\n",
       "      <td>3.4998</td>\n",
       "      <td>19.728</td>\n",
       "      <td>1059.3</td>\n",
       "      <td>550.00</td>\n",
       "      <td>114.72</td>\n",
       "      <td>10.598</td>\n",
       "      <td>3.2363</td>\n",
       "      <td>82.776</td>\n",
       "    </tr>\n",
       "    <tr>\n",
       "      <th>2</th>\n",
       "      <td>6.8977</td>\n",
       "      <td>1008.8</td>\n",
       "      <td>95.939</td>\n",
       "      <td>3.4824</td>\n",
       "      <td>19.779</td>\n",
       "      <td>1059.4</td>\n",
       "      <td>549.87</td>\n",
       "      <td>114.71</td>\n",
       "      <td>10.601</td>\n",
       "      <td>3.2012</td>\n",
       "      <td>82.468</td>\n",
       "    </tr>\n",
       "    <tr>\n",
       "      <th>3</th>\n",
       "      <td>7.0569</td>\n",
       "      <td>1009.2</td>\n",
       "      <td>95.249</td>\n",
       "      <td>3.4805</td>\n",
       "      <td>19.792</td>\n",
       "      <td>1059.6</td>\n",
       "      <td>549.99</td>\n",
       "      <td>114.72</td>\n",
       "      <td>10.606</td>\n",
       "      <td>3.1923</td>\n",
       "      <td>82.670</td>\n",
       "    </tr>\n",
       "    <tr>\n",
       "      <th>4</th>\n",
       "      <td>7.3978</td>\n",
       "      <td>1009.7</td>\n",
       "      <td>95.150</td>\n",
       "      <td>3.4976</td>\n",
       "      <td>19.765</td>\n",
       "      <td>1059.7</td>\n",
       "      <td>549.98</td>\n",
       "      <td>114.72</td>\n",
       "      <td>10.612</td>\n",
       "      <td>3.2484</td>\n",
       "      <td>82.311</td>\n",
       "    </tr>\n",
       "  </tbody>\n",
       "</table>\n",
       "</div>"
      ],
      "text/plain": [
       "       AT      AP      AH    AFDP    GTEP     TIT     TAT     TEY     CDP  \\\n",
       "0  6.8594  1007.9  96.799  3.5000  19.663  1059.2  550.00  114.70  10.605   \n",
       "1  6.7850  1008.4  97.118  3.4998  19.728  1059.3  550.00  114.72  10.598   \n",
       "2  6.8977  1008.8  95.939  3.4824  19.779  1059.4  549.87  114.71  10.601   \n",
       "3  7.0569  1009.2  95.249  3.4805  19.792  1059.6  549.99  114.72  10.606   \n",
       "4  7.3978  1009.7  95.150  3.4976  19.765  1059.7  549.98  114.72  10.612   \n",
       "\n",
       "       CO     NOX  \n",
       "0  3.1547  82.722  \n",
       "1  3.2363  82.776  \n",
       "2  3.2012  82.468  \n",
       "3  3.1923  82.670  \n",
       "4  3.2484  82.311  "
      ]
     },
     "execution_count": 26,
     "metadata": {},
     "output_type": "execute_result"
    }
   ],
   "source": [
    "q2.head()"
   ]
  },
  {
   "cell_type": "code",
   "execution_count": 27,
   "id": "8e8cbacd",
   "metadata": {},
   "outputs": [
    {
     "name": "stdout",
     "output_type": "stream",
     "text": [
      "<class 'pandas.core.frame.DataFrame'>\n",
      "RangeIndex: 15039 entries, 0 to 15038\n",
      "Data columns (total 11 columns):\n",
      " #   Column  Non-Null Count  Dtype  \n",
      "---  ------  --------------  -----  \n",
      " 0   AT      15039 non-null  float64\n",
      " 1   AP      15039 non-null  float64\n",
      " 2   AH      15039 non-null  float64\n",
      " 3   AFDP    15039 non-null  float64\n",
      " 4   GTEP    15039 non-null  float64\n",
      " 5   TIT     15039 non-null  float64\n",
      " 6   TAT     15039 non-null  float64\n",
      " 7   TEY     15039 non-null  float64\n",
      " 8   CDP     15039 non-null  float64\n",
      " 9   CO      15039 non-null  float64\n",
      " 10  NOX     15039 non-null  float64\n",
      "dtypes: float64(11)\n",
      "memory usage: 1.3 MB\n"
     ]
    }
   ],
   "source": [
    "q2.info()"
   ]
  },
  {
   "cell_type": "code",
   "execution_count": 28,
   "id": "410a10be",
   "metadata": {},
   "outputs": [
    {
     "data": {
      "text/plain": [
       "AT      0\n",
       "AP      0\n",
       "AH      0\n",
       "AFDP    0\n",
       "GTEP    0\n",
       "TIT     0\n",
       "TAT     0\n",
       "TEY     0\n",
       "CDP     0\n",
       "CO      0\n",
       "NOX     0\n",
       "dtype: int64"
      ]
     },
     "execution_count": 28,
     "metadata": {},
     "output_type": "execute_result"
    }
   ],
   "source": [
    "q2.isnull().sum()"
   ]
  },
  {
   "cell_type": "code",
   "execution_count": 33,
   "id": "0f01c5f0",
   "metadata": {},
   "outputs": [],
   "source": [
    "X =q2.loc[:,['AT', 'AP', 'AH', 'AFDP', 'GTEP', 'TIT', 'TAT', 'CDP', 'CO','NOX']]\n",
    "y= q2.loc[:,['TEY']]"
   ]
  },
  {
   "cell_type": "code",
   "execution_count": 34,
   "id": "9c5e5ed7",
   "metadata": {},
   "outputs": [
    {
     "data": {
      "text/html": [
       "<div>\n",
       "<style scoped>\n",
       "    .dataframe tbody tr th:only-of-type {\n",
       "        vertical-align: middle;\n",
       "    }\n",
       "\n",
       "    .dataframe tbody tr th {\n",
       "        vertical-align: top;\n",
       "    }\n",
       "\n",
       "    .dataframe thead th {\n",
       "        text-align: right;\n",
       "    }\n",
       "</style>\n",
       "<table border=\"1\" class=\"dataframe\">\n",
       "  <thead>\n",
       "    <tr style=\"text-align: right;\">\n",
       "      <th></th>\n",
       "      <th>AT</th>\n",
       "      <th>AP</th>\n",
       "      <th>AH</th>\n",
       "      <th>AFDP</th>\n",
       "      <th>GTEP</th>\n",
       "      <th>TIT</th>\n",
       "      <th>TAT</th>\n",
       "      <th>TEY</th>\n",
       "      <th>CDP</th>\n",
       "      <th>CO</th>\n",
       "    </tr>\n",
       "  </thead>\n",
       "  <tbody>\n",
       "    <tr>\n",
       "      <th>0</th>\n",
       "      <td>6.8594</td>\n",
       "      <td>1007.9</td>\n",
       "      <td>96.799</td>\n",
       "      <td>3.5000</td>\n",
       "      <td>19.663</td>\n",
       "      <td>1059.2</td>\n",
       "      <td>550.00</td>\n",
       "      <td>114.70</td>\n",
       "      <td>10.605</td>\n",
       "      <td>3.1547</td>\n",
       "    </tr>\n",
       "    <tr>\n",
       "      <th>1</th>\n",
       "      <td>6.7850</td>\n",
       "      <td>1008.4</td>\n",
       "      <td>97.118</td>\n",
       "      <td>3.4998</td>\n",
       "      <td>19.728</td>\n",
       "      <td>1059.3</td>\n",
       "      <td>550.00</td>\n",
       "      <td>114.72</td>\n",
       "      <td>10.598</td>\n",
       "      <td>3.2363</td>\n",
       "    </tr>\n",
       "    <tr>\n",
       "      <th>2</th>\n",
       "      <td>6.8977</td>\n",
       "      <td>1008.8</td>\n",
       "      <td>95.939</td>\n",
       "      <td>3.4824</td>\n",
       "      <td>19.779</td>\n",
       "      <td>1059.4</td>\n",
       "      <td>549.87</td>\n",
       "      <td>114.71</td>\n",
       "      <td>10.601</td>\n",
       "      <td>3.2012</td>\n",
       "    </tr>\n",
       "    <tr>\n",
       "      <th>3</th>\n",
       "      <td>7.0569</td>\n",
       "      <td>1009.2</td>\n",
       "      <td>95.249</td>\n",
       "      <td>3.4805</td>\n",
       "      <td>19.792</td>\n",
       "      <td>1059.6</td>\n",
       "      <td>549.99</td>\n",
       "      <td>114.72</td>\n",
       "      <td>10.606</td>\n",
       "      <td>3.1923</td>\n",
       "    </tr>\n",
       "    <tr>\n",
       "      <th>4</th>\n",
       "      <td>7.3978</td>\n",
       "      <td>1009.7</td>\n",
       "      <td>95.150</td>\n",
       "      <td>3.4976</td>\n",
       "      <td>19.765</td>\n",
       "      <td>1059.7</td>\n",
       "      <td>549.98</td>\n",
       "      <td>114.72</td>\n",
       "      <td>10.612</td>\n",
       "      <td>3.2484</td>\n",
       "    </tr>\n",
       "  </tbody>\n",
       "</table>\n",
       "</div>"
      ],
      "text/plain": [
       "       AT      AP      AH    AFDP    GTEP     TIT     TAT     TEY     CDP  \\\n",
       "0  6.8594  1007.9  96.799  3.5000  19.663  1059.2  550.00  114.70  10.605   \n",
       "1  6.7850  1008.4  97.118  3.4998  19.728  1059.3  550.00  114.72  10.598   \n",
       "2  6.8977  1008.8  95.939  3.4824  19.779  1059.4  549.87  114.71  10.601   \n",
       "3  7.0569  1009.2  95.249  3.4805  19.792  1059.6  549.99  114.72  10.606   \n",
       "4  7.3978  1009.7  95.150  3.4976  19.765  1059.7  549.98  114.72  10.612   \n",
       "\n",
       "       CO  \n",
       "0  3.1547  \n",
       "1  3.2363  \n",
       "2  3.2012  \n",
       "3  3.1923  \n",
       "4  3.2484  "
      ]
     },
     "execution_count": 34,
     "metadata": {},
     "output_type": "execute_result"
    }
   ],
   "source": [
    "x.head()"
   ]
  },
  {
   "cell_type": "code",
   "execution_count": 40,
   "id": "ad4bc2a2",
   "metadata": {},
   "outputs": [
    {
     "data": {
      "text/html": [
       "<div>\n",
       "<style scoped>\n",
       "    .dataframe tbody tr th:only-of-type {\n",
       "        vertical-align: middle;\n",
       "    }\n",
       "\n",
       "    .dataframe tbody tr th {\n",
       "        vertical-align: top;\n",
       "    }\n",
       "\n",
       "    .dataframe thead th {\n",
       "        text-align: right;\n",
       "    }\n",
       "</style>\n",
       "<table border=\"1\" class=\"dataframe\">\n",
       "  <thead>\n",
       "    <tr style=\"text-align: right;\">\n",
       "      <th></th>\n",
       "      <th>TEY</th>\n",
       "    </tr>\n",
       "  </thead>\n",
       "  <tbody>\n",
       "    <tr>\n",
       "      <th>0</th>\n",
       "      <td>114.70</td>\n",
       "    </tr>\n",
       "    <tr>\n",
       "      <th>1</th>\n",
       "      <td>114.72</td>\n",
       "    </tr>\n",
       "    <tr>\n",
       "      <th>2</th>\n",
       "      <td>114.71</td>\n",
       "    </tr>\n",
       "    <tr>\n",
       "      <th>3</th>\n",
       "      <td>114.72</td>\n",
       "    </tr>\n",
       "    <tr>\n",
       "      <th>4</th>\n",
       "      <td>114.72</td>\n",
       "    </tr>\n",
       "  </tbody>\n",
       "</table>\n",
       "</div>"
      ],
      "text/plain": [
       "      TEY\n",
       "0  114.70\n",
       "1  114.72\n",
       "2  114.71\n",
       "3  114.72\n",
       "4  114.72"
      ]
     },
     "execution_count": 40,
     "metadata": {},
     "output_type": "execute_result"
    }
   ],
   "source": [
    "y.head()"
   ]
  },
  {
   "cell_type": "code",
   "execution_count": 36,
   "id": "22bf7505",
   "metadata": {},
   "outputs": [
    {
     "data": {
      "text/plain": [
       "numpy.ndarray"
      ]
     },
     "execution_count": 36,
     "metadata": {},
     "output_type": "execute_result"
    }
   ],
   "source": [
    "x_arr=x.to_numpy()\n",
    "type(x_arr)"
   ]
  },
  {
   "cell_type": "code",
   "execution_count": 37,
   "id": "09203562",
   "metadata": {},
   "outputs": [],
   "source": [
    "y_arr=y.to_numpy()"
   ]
  },
  {
   "cell_type": "code",
   "execution_count": 42,
   "id": "d665ff6b",
   "metadata": {},
   "outputs": [],
   "source": [
    "from sklearn.model_selection import cross_val_score\n",
    "from sklearn.preprocessing import StandardScaler\n",
    "from sklearn.metrics import mean_squared_error\n",
    "scaler = StandardScaler()\n",
    "X = scaler.fit_transform(X)\n",
    "y = scaler.fit_transform(y)"
   ]
  },
  {
   "cell_type": "code",
   "execution_count": 43,
   "id": "265dd568",
   "metadata": {},
   "outputs": [],
   "source": [
    "def baseline_model():\n",
    "    model = Sequential()\n",
    "    model.add(Dense(10, input_dim=10, activation='tanh'))\n",
    "    model.add(Dense(1))\n",
    "    model.compile(loss='mean_squared_error', optimizer='adam')\n",
    "    return model"
   ]
  },
  {
   "cell_type": "code",
   "execution_count": 47,
   "id": "02855f26",
   "metadata": {},
   "outputs": [
    {
     "name": "stdout",
     "output_type": "stream",
     "text": [
      "Results: -0.13 (0.07) MSE\n"
     ]
    }
   ],
   "source": [
    "import keras\n",
    "from sklearn.model_selection import KFold\n",
    "from keras.wrappers.scikit_learn import KerasRegressor\n",
    "from keras.models import Sequential\n",
    "from keras.layers import InputLayer,Dense\n",
    "estimator = KerasRegressor(build_fn=baseline_model, nb_epoch=50, batch_size=100, verbose=False)\n",
    "kfold = KFold(n_splits=10)\n",
    "results = cross_val_score(estimator, X, y, cv=kfold)\n",
    "print(\"Results: %.2f (%.2f) MSE\" % (results.mean(), results.std()))"
   ]
  },
  {
   "cell_type": "code",
   "execution_count": 45,
   "id": "a5037eed",
   "metadata": {},
   "outputs": [
    {
     "data": {
      "text/plain": [
       "array([-1.4651022, -1.4731102, -1.4580784, ..., -1.8092985, -1.7554398,\n",
       "       -1.6789315], dtype=float32)"
      ]
     },
     "execution_count": 45,
     "metadata": {},
     "output_type": "execute_result"
    }
   ],
   "source": [
    "estimator.fit(X, y)\n",
    "prediction = estimator.predict(X)\n",
    "prediction"
   ]
  },
  {
   "cell_type": "code",
   "execution_count": 48,
   "id": "d3415298",
   "metadata": {},
   "outputs": [],
   "source": [
    "from sklearn.model_selection import train_test_split\n",
    "X_train,X_test,y_train,y_test = train_test_split(X,y,test_size=0.3)"
   ]
  },
  {
   "cell_type": "code",
   "execution_count": 49,
   "id": "61391fe2",
   "metadata": {},
   "outputs": [],
   "source": [
    "estimator.fit(X_train, y_train)\n",
    "prediction = estimator.predict(X_test)"
   ]
  },
  {
   "cell_type": "code",
   "execution_count": 50,
   "id": "20b7f231",
   "metadata": {},
   "outputs": [
    {
     "data": {
      "text/plain": [
       "array([-0.10551836,  0.33501053, -0.28621814, ..., -0.21623103,\n",
       "        0.34171546,  0.20159748], dtype=float32)"
      ]
     },
     "execution_count": 50,
     "metadata": {},
     "output_type": "execute_result"
    }
   ],
   "source": [
    "prediction"
   ]
  },
  {
   "cell_type": "code",
   "execution_count": 51,
   "id": "b3813ffb",
   "metadata": {},
   "outputs": [],
   "source": [
    "X = q2.drop(columns = ['TEY'], axis = 1) \n",
    "y = q2.iloc[:,7]"
   ]
  },
  {
   "cell_type": "code",
   "execution_count": 52,
   "id": "4f31bd91",
   "metadata": {},
   "outputs": [
    {
     "data": {
      "text/plain": [
       "array([[ 0.82623246, -0.43954308, -0.25924569, ...,  0.10039242,\n",
       "        -0.3796304 , -0.69217007],\n",
       "       [ 0.35282087,  0.23279782,  0.80230139, ..., -1.18541222,\n",
       "         0.39149515, -1.09475442],\n",
       "       [ 0.32839008, -0.07135639,  0.25312287, ...,  0.01665304,\n",
       "        -0.00296896, -0.31891741],\n",
       "       ...,\n",
       "       [-0.74071701,  0.37687087,  0.43427425, ...,  1.77157829,\n",
       "        -1.00127821, -0.4818816 ],\n",
       "       [-0.49965786, -0.39151873,  0.64680105, ..., -0.26517949,\n",
       "        -0.48137538,  0.12808615],\n",
       "       [ 0.13151427,  0.32884652,  0.98830762, ..., -1.40331469,\n",
       "         0.13152215, -0.64456466]])"
      ]
     },
     "execution_count": 52,
     "metadata": {},
     "output_type": "execute_result"
    }
   ],
   "source": [
    "from sklearn.preprocessing import scale\n",
    "X_train, X_test, y_train, y_test = train_test_split(X, y, test_size = 0.1, random_state = 42)\n",
    "X_train_scaled = scale(X_train)\n",
    "X_test_scaled = scale(X_test)\n",
    "X_test_scaled"
   ]
  },
  {
   "cell_type": "code",
   "execution_count": 53,
   "id": "362b5fd4",
   "metadata": {},
   "outputs": [],
   "source": [
    "import tensorflow as tf\n",
    "input_size = len(X.columns)\n",
    "output_size = 1\n",
    "hidden_layer_size = 50\n",
    "\n",
    "model = tf.keras.Sequential([\n",
    "                                \n",
    "                               tf.keras.layers.Dense(hidden_layer_size, input_dim = input_size, activation = 'relu'),\n",
    "                               tf.keras.layers.Dense(hidden_layer_size, activation = 'relu'),\n",
    "                               tf.keras.layers.Dense(hidden_layer_size, activation = 'relu'),\n",
    "                               tf.keras.layers.Dense(hidden_layer_size, activation = 'relu'),     \n",
    "                               tf.keras.layers.Dense(output_size)\n",
    "                             ])"
   ]
  },
  {
   "cell_type": "code",
   "execution_count": 54,
   "id": "33a1151b",
   "metadata": {},
   "outputs": [],
   "source": [
    "optimizer = tf.keras.optimizers.SGD(learning_rate = 0.03)\n",
    "model.compile(optimizer = 'adam', loss = 'mean_squared_error', metrics = ['MeanSquaredError'])"
   ]
  },
  {
   "cell_type": "code",
   "execution_count": 55,
   "id": "2e11ef37",
   "metadata": {},
   "outputs": [
    {
     "name": "stdout",
     "output_type": "stream",
     "text": [
      "Epoch 1/100\n",
      "381/381 - 2s - loss: 2762.4099 - mean_squared_error: 2762.4099 - val_loss: 165.9154 - val_mean_squared_error: 165.9154 - 2s/epoch - 5ms/step\n",
      "Epoch 2/100\n",
      "381/381 - 1s - loss: 90.7718 - mean_squared_error: 90.7718 - val_loss: 65.1722 - val_mean_squared_error: 65.1722 - 1s/epoch - 3ms/step\n",
      "Epoch 3/100\n",
      "381/381 - 1s - loss: 39.3377 - mean_squared_error: 39.3377 - val_loss: 31.2237 - val_mean_squared_error: 31.2237 - 975ms/epoch - 3ms/step\n",
      "Epoch 4/100\n",
      "381/381 - 1s - loss: 20.6281 - mean_squared_error: 20.6281 - val_loss: 20.1715 - val_mean_squared_error: 20.1715 - 1s/epoch - 3ms/step\n",
      "Epoch 5/100\n",
      "381/381 - 1s - loss: 11.2243 - mean_squared_error: 11.2243 - val_loss: 10.0332 - val_mean_squared_error: 10.0332 - 1s/epoch - 3ms/step\n",
      "Epoch 6/100\n",
      "381/381 - 1s - loss: 7.0801 - mean_squared_error: 7.0801 - val_loss: 7.0476 - val_mean_squared_error: 7.0476 - 1s/epoch - 4ms/step\n",
      "Epoch 7/100\n",
      "381/381 - 2s - loss: 4.9777 - mean_squared_error: 4.9777 - val_loss: 4.8495 - val_mean_squared_error: 4.8495 - 2s/epoch - 4ms/step\n",
      "Epoch 8/100\n",
      "381/381 - 2s - loss: 3.6383 - mean_squared_error: 3.6383 - val_loss: 4.0947 - val_mean_squared_error: 4.0947 - 2s/epoch - 4ms/step\n",
      "Epoch 9/100\n",
      "381/381 - 1s - loss: 2.7366 - mean_squared_error: 2.7366 - val_loss: 2.8006 - val_mean_squared_error: 2.8006 - 976ms/epoch - 3ms/step\n",
      "Epoch 10/100\n",
      "381/381 - 1s - loss: 2.1613 - mean_squared_error: 2.1613 - val_loss: 2.6091 - val_mean_squared_error: 2.6091 - 1s/epoch - 3ms/step\n",
      "Epoch 11/100\n",
      "381/381 - 1s - loss: 2.0030 - mean_squared_error: 2.0030 - val_loss: 2.0871 - val_mean_squared_error: 2.0871 - 945ms/epoch - 2ms/step\n",
      "Epoch 12/100\n",
      "381/381 - 1s - loss: 2.0540 - mean_squared_error: 2.0540 - val_loss: 2.0688 - val_mean_squared_error: 2.0688 - 986ms/epoch - 3ms/step\n",
      "Epoch 13/100\n",
      "381/381 - 1s - loss: 1.4845 - mean_squared_error: 1.4845 - val_loss: 1.7173 - val_mean_squared_error: 1.7173 - 1s/epoch - 4ms/step\n",
      "Epoch 14/100\n",
      "381/381 - 1s - loss: 1.3619 - mean_squared_error: 1.3619 - val_loss: 1.2227 - val_mean_squared_error: 1.2227 - 1s/epoch - 3ms/step\n",
      "Epoch 15/100\n",
      "381/381 - 1s - loss: 1.2256 - mean_squared_error: 1.2256 - val_loss: 2.1147 - val_mean_squared_error: 2.1147 - 1s/epoch - 3ms/step\n",
      "Epoch 16/100\n",
      "381/381 - 1s - loss: 1.4100 - mean_squared_error: 1.4100 - val_loss: 1.0043 - val_mean_squared_error: 1.0043 - 1s/epoch - 3ms/step\n",
      "Epoch 17/100\n",
      "381/381 - 1s - loss: 1.0385 - mean_squared_error: 1.0385 - val_loss: 1.5169 - val_mean_squared_error: 1.5169 - 1s/epoch - 3ms/step\n",
      "Epoch 18/100\n",
      "381/381 - 1s - loss: 1.0265 - mean_squared_error: 1.0265 - val_loss: 1.0576 - val_mean_squared_error: 1.0576 - 1s/epoch - 3ms/step\n"
     ]
    },
    {
     "data": {
      "text/plain": [
       "<keras.callbacks.History at 0x2391057a280>"
      ]
     },
     "execution_count": 55,
     "metadata": {},
     "output_type": "execute_result"
    }
   ],
   "source": [
    "num_epochs = 100\n",
    "early_stopping = tf.keras.callbacks.EarlyStopping(patience = 2)\n",
    "model.fit(X_train_scaled, y_train, callbacks = early_stopping, validation_split = 0.1, epochs = num_epochs, verbose = 2)"
   ]
  },
  {
   "cell_type": "code",
   "execution_count": 56,
   "id": "e93702b2",
   "metadata": {},
   "outputs": [
    {
     "name": "stdout",
     "output_type": "stream",
     "text": [
      "47/47 [==============================] - 0s 3ms/step - loss: 1.0901 - mean_squared_error: 1.0901\n"
     ]
    }
   ],
   "source": [
    "test_loss, mean_squared_error = model.evaluate(X_test_scaled, y_test)"
   ]
  },
  {
   "cell_type": "code",
   "execution_count": 57,
   "id": "5758763e",
   "metadata": {},
   "outputs": [],
   "source": [
    "predictions = model.predict_on_batch(X_test_scaled)"
   ]
  },
  {
   "cell_type": "code",
   "execution_count": 58,
   "id": "5da35739",
   "metadata": {},
   "outputs": [
    {
     "data": {
      "text/plain": [
       "<matplotlib.collections.PathCollection at 0x23903115f40>"
      ]
     },
     "execution_count": 58,
     "metadata": {},
     "output_type": "execute_result"
    },
    {
     "data": {
      "image/png": "[encoded data removed]",
      "text/plain": [
       "<Figure size 640x480 with 1 Axes>"
      ]
     },
     "metadata": {},
     "output_type": "display_data"
    }
   ],
   "source": [
    "plt.scatter(y_test, predictions)"
   ]
  },
  {
   "cell_type": "code",
   "execution_count": 59,
   "id": "7a0b2a8a",
   "metadata": {},
   "outputs": [
    {
     "data": {
      "text/html": [
       "<div>\n",
       "<style scoped>\n",
       "    .dataframe tbody tr th:only-of-type {\n",
       "        vertical-align: middle;\n",
       "    }\n",
       "\n",
       "    .dataframe tbody tr th {\n",
       "        vertical-align: top;\n",
       "    }\n",
       "\n",
       "    .dataframe thead th {\n",
       "        text-align: right;\n",
       "    }\n",
       "</style>\n",
       "<table border=\"1\" class=\"dataframe\">\n",
       "  <thead>\n",
       "    <tr style=\"text-align: right;\">\n",
       "      <th></th>\n",
       "      <th>Actual</th>\n",
       "      <th>Predicted</th>\n",
       "      <th>% Error</th>\n",
       "    </tr>\n",
       "  </thead>\n",
       "  <tbody>\n",
       "    <tr>\n",
       "      <th>0</th>\n",
       "      <td>134.46</td>\n",
       "      <td>134.908142</td>\n",
       "      <td>0.333290</td>\n",
       "    </tr>\n",
       "    <tr>\n",
       "      <th>1</th>\n",
       "      <td>111.88</td>\n",
       "      <td>112.697731</td>\n",
       "      <td>0.730900</td>\n",
       "    </tr>\n",
       "    <tr>\n",
       "      <th>2</th>\n",
       "      <td>133.72</td>\n",
       "      <td>134.645950</td>\n",
       "      <td>0.692455</td>\n",
       "    </tr>\n",
       "    <tr>\n",
       "      <th>3</th>\n",
       "      <td>133.79</td>\n",
       "      <td>133.739365</td>\n",
       "      <td>0.037847</td>\n",
       "    </tr>\n",
       "    <tr>\n",
       "      <th>4</th>\n",
       "      <td>110.77</td>\n",
       "      <td>111.385040</td>\n",
       "      <td>0.555241</td>\n",
       "    </tr>\n",
       "    <tr>\n",
       "      <th>...</th>\n",
       "      <td>...</td>\n",
       "      <td>...</td>\n",
       "      <td>...</td>\n",
       "    </tr>\n",
       "    <tr>\n",
       "      <th>1499</th>\n",
       "      <td>132.85</td>\n",
       "      <td>133.819229</td>\n",
       "      <td>0.729567</td>\n",
       "    </tr>\n",
       "    <tr>\n",
       "      <th>1500</th>\n",
       "      <td>125.07</td>\n",
       "      <td>125.551163</td>\n",
       "      <td>0.384715</td>\n",
       "    </tr>\n",
       "    <tr>\n",
       "      <th>1501</th>\n",
       "      <td>160.95</td>\n",
       "      <td>160.170181</td>\n",
       "      <td>0.484510</td>\n",
       "    </tr>\n",
       "    <tr>\n",
       "      <th>1502</th>\n",
       "      <td>133.12</td>\n",
       "      <td>133.537247</td>\n",
       "      <td>0.313437</td>\n",
       "    </tr>\n",
       "    <tr>\n",
       "      <th>1503</th>\n",
       "      <td>111.79</td>\n",
       "      <td>112.291374</td>\n",
       "      <td>0.448496</td>\n",
       "    </tr>\n",
       "  </tbody>\n",
       "</table>\n",
       "<p>1504 rows × 3 columns</p>\n",
       "</div>"
      ],
      "text/plain": [
       "      Actual   Predicted   % Error\n",
       "0     134.46  134.908142  0.333290\n",
       "1     111.88  112.697731  0.730900\n",
       "2     133.72  134.645950  0.692455\n",
       "3     133.79  133.739365  0.037847\n",
       "4     110.77  111.385040  0.555241\n",
       "...      ...         ...       ...\n",
       "1499  132.85  133.819229  0.729567\n",
       "1500  125.07  125.551163  0.384715\n",
       "1501  160.95  160.170181  0.484510\n",
       "1502  133.12  133.537247  0.313437\n",
       "1503  111.79  112.291374  0.448496\n",
       "\n",
       "[1504 rows x 3 columns]"
      ]
     },
     "execution_count": 59,
     "metadata": {},
     "output_type": "execute_result"
    }
   ],
   "source": [
    "predictions_df = pd.DataFrame()\n",
    "predictions_df['Actual'] = y_test\n",
    "predictions_df['Predicted'] = predictions\n",
    "predictions_df['% Error'] = abs(predictions_df['Actual'] - predictions_df['Predicted'])/predictions_df['Actual']*100\n",
    "predictions_df.reset_index(drop = True)"
   ]
  },
  {
   "cell_type": "code",
   "execution_count": null,
   "id": "d1d5dfd3",
   "metadata": {},
   "outputs": [],
   "source": []
  }
 ],
 "metadata": {
  "kernelspec": {
   "display_name": "Python 3 (ipykernel)",
   "language": "python",
   "name": "python3"
  },
  "language_info": {
   "codemirror_mode": {
    "name": "ipython",
    "version": 3
   },
   "file_extension": ".py",
   "mimetype": "text/x-python",
   "name": "python",
   "nbconvert_exporter": "python",
   "pygments_lexer": "ipython3",
   "version": "3.9.13"
  }
 },
 "nbformat": 4,
 "nbformat_minor": 5
}
